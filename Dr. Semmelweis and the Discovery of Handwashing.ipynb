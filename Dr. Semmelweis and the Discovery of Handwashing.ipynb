{
 "cells": [
  {
   "cell_type": "code",
   "execution_count": 2,
   "id": "59eb3ffc",
   "metadata": {},
   "outputs": [],
   "source": [
    "#we first import pandas \n",
    "import pandas as pd"
   ]
  },
  {
   "cell_type": "code",
   "execution_count": 3,
   "id": "0b5fe267",
   "metadata": {},
   "outputs": [],
   "source": [
    "#we will read and assign the csv file to a variable 'yearly'\n",
    "yearly = pd.read_csv(r'C:\\Users\\USER\\Downloads\\yearly_deaths_by_clinic.csv')"
   ]
  },
  {
   "cell_type": "code",
   "execution_count": 9,
   "id": "deb478ba",
   "metadata": {},
   "outputs": [
    {
     "name": "stdout",
     "output_type": "stream",
     "text": [
      "    year  births  deaths    clinic\n",
      "0   1841    3036     237  clinic 1\n",
      "1   1842    3287     518  clinic 1\n",
      "2   1843    3060     274  clinic 1\n",
      "3   1844    3157     260  clinic 1\n",
      "4   1845    3492     241  clinic 1\n",
      "5   1846    4010     459  clinic 1\n",
      "6   1841    2442      86  clinic 2\n",
      "7   1842    2659     202  clinic 2\n",
      "8   1843    2739     164  clinic 2\n",
      "9   1844    2956      68  clinic 2\n",
      "10  1845    3241      66  clinic 2\n",
      "11  1846    3754     105  clinic 2\n"
     ]
    }
   ],
   "source": [
    "#we can now view yearly using the to_string method\n",
    "print(yearly.to_string())"
   ]
  },
  {
   "cell_type": "code",
   "execution_count": 4,
   "id": "431efb9b",
   "metadata": {},
   "outputs": [],
   "source": [
    "#we now calculate the number of deaths per number of births\n",
    "yearly['proportion']=yearly.deaths.divide(yearly.births)"
   ]
  },
  {
   "cell_type": "code",
   "execution_count": 5,
   "id": "ee42de1a",
   "metadata": {},
   "outputs": [],
   "source": [
    "clinic_1= yearly[yearly.clinic=='clinic 1']\n",
    "clinic_2= yearly[yearly.clinic=='clinic 2']"
   ]
  },
  {
   "cell_type": "code",
   "execution_count": 6,
   "id": "f7e4a709",
   "metadata": {},
   "outputs": [
    {
     "name": "stdout",
     "output_type": "stream",
     "text": [
      "   year  births  deaths    clinic  proportion\n",
      "0  1841    3036     237  clinic 1    0.078063\n",
      "1  1842    3287     518  clinic 1    0.157591\n",
      "2  1843    3060     274  clinic 1    0.089542\n",
      "3  1844    3157     260  clinic 1    0.082357\n",
      "4  1845    3492     241  clinic 1    0.069015\n",
      "5  1846    4010     459  clinic 1    0.114464\n"
     ]
    }
   ],
   "source": [
    "print(clinic_1)"
   ]
  },
  {
   "cell_type": "code",
   "execution_count": null,
   "id": "6330067d",
   "metadata": {},
   "outputs": [],
   "source": []
  }
 ],
 "metadata": {
  "kernelspec": {
   "display_name": "Python 3 (ipykernel)",
   "language": "python",
   "name": "python3"
  },
  "language_info": {
   "codemirror_mode": {
    "name": "ipython",
    "version": 3
   },
   "file_extension": ".py",
   "mimetype": "text/x-python",
   "name": "python",
   "nbconvert_exporter": "python",
   "pygments_lexer": "ipython3",
   "version": "3.9.13"
  }
 },
 "nbformat": 4,
 "nbformat_minor": 5
}
